{
 "cells": [
  {
   "cell_type": "markdown",
   "metadata": {},
   "source": [
    "This notebook creates a folder locally with the stimuli for the instruction trials in the structure required for the server.\n",
    "We always use the images from one batch, namely batch_0 (hand-picked by Roland and Judy)."
   ]
  },
  {
   "cell_type": "markdown",
   "metadata": {},
   "source": [
    "# Imports"
   ]
  },
  {
   "cell_type": "code",
   "execution_count": null,
   "metadata": {},
   "outputs": [],
   "source": [
    "import os\n",
    "import glob\n",
    "import shutil\n",
    "import random"
   ]
  },
  {
   "cell_type": "markdown",
   "metadata": {},
   "source": [
    "# Parameters"
   ]
  },
  {
   "cell_type": "code",
   "execution_count": null,
   "metadata": {},
   "outputs": [],
   "source": [
    "target_folder = \"$DATAPATH/stimulus_instruction_generated_on_20210512/screenshots_9_references/task_1/trials\"\n",
    "os.makedirs(target_folder, exist_ok=True)"
   ]
  },
  {
   "cell_type": "code",
   "execution_count": null,
   "metadata": {},
   "outputs": [],
   "source": [
    "task_list = [\n",
    "    \"trial_1\", # natural\n",
    "    \"trial_2\", # optimized\n",
    "    \"trial_3\", # mixed\n",
    "    \"trial_4\" # blurred\n",
    "]"
   ]
  },
  {
   "cell_type": "markdown",
   "metadata": {},
   "source": [
    "# Query Images"
   ]
  },
  {
   "cell_type": "code",
   "execution_count": null,
   "metadata": {},
   "outputs": [],
   "source": [
    "source_path_pure_query = \"$DATAPATH/pre_stimulus_instruction_20210512/stimuli_pure_conditions/channel/instruction_practice_catch/layer_a/kernel_size_a/channel_a\""
   ]
  },
  {
   "cell_type": "code",
   "execution_count": null,
   "metadata": {},
   "outputs": [],
   "source": [
    "\"\"\" \n",
    "We use the same query images for all conditions,\n",
    "namely the swan-dog images.\n",
    "\"\"\"\n",
    "for task_i in task_list:\n",
    "\n",
    "    # queries\n",
    "    source_queries_path = os.path.join(\n",
    "        source_path_pure_query, \n",
    "        \"natural_images\",\n",
    "        \"batch_0\",\n",
    "        \"40_percent_side_length_dog_swan\")\n",
    "\n",
    "    target_queries_path = os.path.join(\n",
    "        target_folder,\n",
    "        task_i,\n",
    "        \"queries\"\n",
    "    )\n",
    "    os.makedirs(target_queries_path, exist_ok=True)\n",
    "\n",
    "    shutil.copy(os.path.join(source_queries_path, \"query_min_activation.png\"), os.path.join(target_queries_path, \"min.png\"))\n",
    "    shutil.copy(os.path.join(source_queries_path, \"query_max_activation.png\"), os.path.join(target_queries_path, \"max.png\"))\n",
    "    shutil.copy(os.path.join(source_queries_path, \"query_default.png\"), os.path.join(target_queries_path, \"base.png\"))"
   ]
  },
  {
   "cell_type": "markdown",
   "metadata": {},
   "source": [
    "# Reference Images"
   ]
  },
  {
   "cell_type": "code",
   "execution_count": null,
   "metadata": {},
   "outputs": [],
   "source": [
    "source_path_pure_reference = \"$DATAPATH/stimuli/stimuli_pure_conditions/channel/instruction_practice_catch/layer_a/kernel_size_a/channel_a\"\n",
    "source_path_mixed_reference = \"$DATAPATH/stimuli/stimuli_mixed_conditions/channel/instruction_practice_catch/layer_a/kernel_size_a/channel_a\""
   ]
  },
  {
   "cell_type": "code",
   "execution_count": null,
   "metadata": {},
   "outputs": [],
   "source": [
    "# pure conditions\n",
    "for task_i in task_list[:2] + [task_list[3]]:\n",
    "\n",
    "    # Natural condition\n",
    "    if task_i == \"trial_1\":\n",
    "        imgs_paths_list = glob.glob(\n",
    "            os.path.join(\n",
    "                source_path_pure_reference,\n",
    "                \"natural_images\",\n",
    "                \"batch_0\",\n",
    "                \"*.png\"\n",
    "            )\n",
    "        )\n",
    "    elif task_i == \"trial_2\":\n",
    "        imgs_paths_list = glob.glob(\n",
    "            os.path.join(\n",
    "                source_path_pure_reference,\n",
    "                \"optimized_images\",\n",
    "                \"*.png\"\n",
    "            )\n",
    "        )\n",
    "    elif task_i == \"trial_4\":\n",
    "        imgs_paths_list = glob.glob(\n",
    "            os.path.join(\n",
    "                source_path_pure_reference,\n",
    "                \"natural_blur_images\",\n",
    "                \"batch_0\",\n",
    "                \"40_percent_side_length\",\n",
    "                \"*.png\"\n",
    "            )\n",
    "        )\n",
    "    else:\n",
    "        raise ValueError(\"wrong trial number!\")\n",
    "        \n",
    "    target_references_path = os.path.join(\n",
    "            target_folder,\n",
    "            task_i,\n",
    "            \"references\"\n",
    "        )\n",
    "    os.makedirs(target_references_path, exist_ok=True)\n",
    "\n",
    "    # first copy over the base image as the very last image in the folder\n",
    "    last_reference = imgs_paths_list[-1] # depending on file system, not necessarily the max_5 img!\n",
    "    base_img_dirname = os.path.dirname(last_reference)\n",
    "    last_img_basename = os.path.basename(last_reference)\n",
    "    base_img_basename = f\"{last_img_basename.split('.png')[0][:-1]}{len(imgs_paths_list)-1}.png\"\n",
    "    source_reference = os.path.join(base_img_dirname, base_img_basename)\n",
    "    target_reference = os.path.join(target_references_path, f\"reference_max_{len(imgs_paths_list) -1}.png\")\n",
    "    shutil.copy(source_reference, target_reference)\n",
    "    # remove path to base img from list\n",
    "    imgs_paths_list.remove(source_reference)\n",
    "\n",
    "    # shuffle the image numbering                      \n",
    "    random.shuffle(imgs_paths_list)\n",
    "\n",
    "    for reference_idx, source_reference in enumerate(imgs_paths_list):\n",
    "        target_reference = os.path.join(target_references_path, f\"reference_max_{reference_idx}.png\")\n",
    "        shutil.copy(source_reference, target_reference)"
   ]
  },
  {
   "cell_type": "code",
   "execution_count": null,
   "metadata": {},
   "outputs": [],
   "source": [
    "# mixed condition\n",
    "task_i = task_list[2]\n",
    "\n",
    "optimized_imgs_paths_list = imgs_paths_list = glob.glob(\n",
    "    os.path.join(\n",
    "        source_path_mixed_reference,\n",
    "        \"optimized_images\",\n",
    "        \"*.png\"\n",
    "    )\n",
    ")\n",
    "natural_imgs_paths_list = glob.glob(\n",
    "    os.path.join(\n",
    "        source_path_mixed_reference,\n",
    "        \"natural_images\",\n",
    "        \"batch_0\",\n",
    "        \"*.png\"\n",
    "    )\n",
    ")\n",
    "\n",
    "target_references_path = os.path.join(\n",
    "        target_folder,\n",
    "        task_i,\n",
    "        \"references\"\n",
    "    )\n",
    "os.makedirs(target_references_path, exist_ok=True)\n",
    "\n",
    "# first copy over the natural base image as the very last image in the mixed folder\n",
    "last_reference = natural_imgs_paths_list[-1] # depending on file system, not necessarily the max_5 img!\n",
    "base_img_dirname = os.path.dirname(last_reference)\n",
    "last_img_basename = os.path.basename(last_reference)\n",
    "base_img_basename = f\"{last_img_basename.split('.png')[0][:-1]}{len(natural_imgs_paths_list)-1}.png\"\n",
    "source_reference = os.path.join(base_img_dirname, base_img_basename)\n",
    "target_reference = os.path.join(target_references_path, f\"reference_max_{len(natural_imgs_paths_list) + len(optimized_imgs_paths_list) -1}.png\")\n",
    "shutil.copy(source_reference, target_reference)\n",
    "# remove path to base img from list\n",
    "natural_imgs_paths_list.remove(source_reference)\n",
    "\n",
    "# shuffle the image numbering\n",
    "random.shuffle(optimized_imgs_paths_list)\n",
    "random.shuffle(natural_imgs_paths_list)\n",
    "# first copy optimized (indices 0-3) and then optimized images (indices 4-8)\n",
    "for reference_idx, source_reference in enumerate(optimized_imgs_paths_list):\n",
    "    # continue counting of reference images\n",
    "    target_reference = os.path.join(target_references_path,\n",
    "                                    f\"reference_max_{reference_idx}.png\")\n",
    "    shutil.copy(source_reference, target_reference)   \n",
    "for reference_idx, source_reference in enumerate(natural_imgs_paths_list):\n",
    "    target_reference = os.path.join(target_references_path, \n",
    "                                    f\"reference_max_{reference_idx + len(optimized_imgs_paths_list)}.png\")\n",
    "    shutil.copy(source_reference, target_reference)"
   ]
  }
 ],
 "metadata": {
  "kernelspec": {
   "display_name": "Python 3",
   "language": "python",
   "name": "python3"
  },
  "language_info": {
   "codemirror_mode": {
    "name": "ipython",
    "version": 3
   },
   "file_extension": ".py",
   "mimetype": "text/x-python",
   "name": "python",
   "nbconvert_exporter": "python",
   "pygments_lexer": "ipython3",
   "version": "3.6.3"
  },
  "varInspector": {
   "cols": {
    "lenName": 16,
    "lenType": 16,
    "lenVar": 40
   },
   "kernels_config": {
    "python": {
     "delete_cmd_postfix": "",
     "delete_cmd_prefix": "del ",
     "library": "var_list.py",
     "varRefreshCmd": "print(var_dic_list())"
    },
    "r": {
     "delete_cmd_postfix": ") ",
     "delete_cmd_prefix": "rm(",
     "library": "var_list.r",
     "varRefreshCmd": "cat(var_dic_list()) "
    }
   },
   "types_to_exclude": [
    "module",
    "function",
    "builtin_function_or_method",
    "instance",
    "_Feature"
   ],
   "window_display": false
  }
 },
 "nbformat": 4,
 "nbformat_minor": 2
}
