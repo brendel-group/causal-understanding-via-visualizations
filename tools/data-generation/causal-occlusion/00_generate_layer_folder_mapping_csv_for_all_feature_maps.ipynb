{
 "cells": [
  {
   "cell_type": "markdown",
   "metadata": {},
   "source": [
    "# Generate the csv file that contains the mapping of the layer, kernel_size and channel to the folder structure\n",
    "# FOR ALL FEATURE MAPS"
   ]
  },
  {
   "cell_type": "markdown",
   "metadata": {},
   "source": [
    "## Load libraries"
   ]
  },
  {
   "cell_type": "code",
   "execution_count": null,
   "metadata": {},
   "outputs": [],
   "source": [
    "# standard imports\n",
    "import random\n",
    "import csv\n",
    "import itertools\n",
    "\n",
    "# custom imports\n",
    "import activation_utils as ut"
   ]
  },
  {
   "cell_type": "code",
   "execution_count": null,
   "metadata": {},
   "outputs": [],
   "source": [
    "# parameters\n",
    "pre_post_relu = 'pre_relu'"
   ]
  },
  {
   "cell_type": "code",
   "execution_count": null,
   "metadata": {},
   "outputs": [],
   "source": [
    "def write_to_csv(csv_filename, pre_post_relu, layer_number, layer_name, kernel_size_number, kernel_size, channel_number, feature_map_number):\n",
    "    \"\"\"write specification to csv\"\"\"\n",
    "    \n",
    "    # save each layer-kernel-channel to csv\n",
    "    with open(csv_filename, 'a') as csvFile: # 'a' for append\n",
    "        csv_writer = csv.writer(csvFile, delimiter=',', lineterminator='\\n')\n",
    "        csv_writer.writerow([\n",
    "            layer_number,\n",
    "            kernel_size_number,\n",
    "            channel_number,\n",
    "            layer_name,\n",
    "            pre_post_relu,\n",
    "            kernel_size,\n",
    "            feature_map_number\n",
    "        ])\n",
    "    csvFile.close()"
   ]
  },
  {
   "cell_type": "markdown",
   "metadata": {},
   "source": [
    "## Write to csv"
   ]
  },
  {
   "cell_type": "markdown",
   "metadata": {},
   "source": [
    "### Sampled trials"
   ]
  },
  {
   "cell_type": "code",
   "execution_count": null,
   "metadata": {},
   "outputs": [],
   "source": [
    "csv_filename = ('$DATAPATH/all_activations_imagenet_train/layer_folder_mapping_sampled_trials.csv')\n",
    "# write down what columns mean\n",
    "with open(csv_filename, 'w') as csvFile:\n",
    "    csv_writer = csv.writer(csvFile, delimiter=',', lineterminator='\\n')\n",
    "    csv_writer.writerow([\"encoding in folder structure - correspondence in InceptionV1\"])\n",
    "    csv_writer.writerow(\n",
    "        [\"layer_number\", \n",
    "        \"kernel_size_number\", \n",
    "        \"channel_number\", \n",
    "        \"layer_name\", \n",
    "        \"pre_post_relu\", \"kernel_size\",\n",
    "        \"feature_map_number\"]\n",
    ")\n",
    "csvFile.close()"
   ]
  },
  {
   "cell_type": "code",
   "execution_count": null,
   "metadata": {},
   "outputs": [],
   "source": [
    "channel_number = -1 # TODO: change to -1 when saving all feature maps to one folde\n",
    "kernel_size_previous = '1x1'\n",
    "for layer_number, layer_name in enumerate(ut.layer_names_list):\n",
    "    for kernel_size_number, kernel_size in enumerate(ut.kernel_size_list):        \n",
    "        if kernel_size == '1x1':\n",
    "            start = 0\n",
    "        else:\n",
    "            start = ut.idx_of_kernel_sizes_in_each_layer_dict[layer_name+ '_'+ kernel_size_previous]\n",
    "        stop = ut.idx_of_kernel_sizes_in_each_layer_dict[layer_name+ '_'+ kernel_size]\n",
    "        for feature_map_number in range(start, stop):\n",
    "            write_to_csv(csv_filename, pre_post_relu, layer_number, layer_name, kernel_size_number, kernel_size, channel_number, feature_map_number)\n",
    "        kernel_size_previous = kernel_size\n",
    "#         channel_number += 1 # TODO: comment out when saving all feature maps to one folder"
   ]
  },
  {
   "cell_type": "code",
   "execution_count": null,
   "metadata": {},
   "outputs": [],
   "source": []
  }
 ],
 "metadata": {
  "kernelspec": {
   "display_name": "Python 3",
   "language": "python",
   "name": "python3"
  },
  "language_info": {
   "codemirror_mode": {
    "name": "ipython",
    "version": 3
   },
   "file_extension": ".py",
   "mimetype": "text/x-python",
   "name": "python",
   "nbconvert_exporter": "python",
   "pygments_lexer": "ipython3",
   "version": "3.6.3"
  },
  "varInspector": {
   "cols": {
    "lenName": 16,
    "lenType": 16,
    "lenVar": 40
   },
   "kernels_config": {
    "python": {
     "delete_cmd_postfix": "",
     "delete_cmd_prefix": "del ",
     "library": "var_list.py",
     "varRefreshCmd": "print(var_dic_list())"
    },
    "r": {
     "delete_cmd_postfix": ") ",
     "delete_cmd_prefix": "rm(",
     "library": "var_list.r",
     "varRefreshCmd": "cat(var_dic_list()) "
    }
   },
   "types_to_exclude": [
    "module",
    "function",
    "builtin_function_or_method",
    "instance",
    "_Feature"
   ],
   "window_display": false
  }
 },
 "nbformat": 4,
 "nbformat_minor": 2
}
