{
 "cells": [
  {
   "cell_type": "markdown",
   "metadata": {},
   "source": [
    "This notebook creates the query images in batch 0. \n",
    "In order to run it, get the dog swan image into a folder called `artificial_class`. \n",
    "You do not want to have any other images (e.g. reference images) in this folder yet."
   ]
  },
  {
   "cell_type": "code",
   "execution_count": null,
   "metadata": {},
   "outputs": [],
   "source": [
    "# sudo apt update\n",
    "# sudo apt install libgl1-mesa-glx\n",
    "# pip install opencv-python"
   ]
  },
  {
   "cell_type": "markdown",
   "metadata": {},
   "source": [
    "# Save query images of bird-dog instruction trial"
   ]
  },
  {
   "cell_type": "markdown",
   "metadata": {},
   "source": [
    "## Imports"
   ]
  },
  {
   "cell_type": "code",
   "execution_count": null,
   "metadata": {},
   "outputs": [],
   "source": [
    "import os\n",
    "import glob\n",
    "import numpy as np\n",
    "import pandas as pd\n",
    "import matplotlib.pyplot as plt\n",
    "import copy\n",
    "import time\n",
    "import cv2"
   ]
  },
  {
   "cell_type": "code",
   "execution_count": null,
   "metadata": {},
   "outputs": [],
   "source": [
    "import shutil\n",
    "from torch.utils import data\n",
    "from torchvision import transforms\n",
    "from torchvision.datasets.folder import default_loader as default_image_loader"
   ]
  },
  {
   "cell_type": "code",
   "execution_count": null,
   "metadata": {},
   "outputs": [],
   "source": [
    "import occlusion_utils as ut"
   ]
  },
  {
   "cell_type": "markdown",
   "metadata": {},
   "source": [
    "# Natural Query Image"
   ]
  },
  {
   "cell_type": "markdown",
   "metadata": {},
   "source": [
    "dowloaded from https://pixnio.com/fauna-animals/dogs/dog-water-bird-swan-lake-waterfowl-animal-swimming"
   ]
  },
  {
   "cell_type": "code",
   "execution_count": null,
   "metadata": {},
   "outputs": [],
   "source": [
    "# load image\n",
    "query_path = \"$DATAPATH/pre_stimulus_instruction_20210512/\"\n",
    "data_loader = ut.get_data_loader(query_path)\n",
    "image, _, _ = next(iter(data_loader))\n",
    "image_np_transformed = image.numpy().transpose(0,2,3,1) # (1, 224, 224, 3)"
   ]
  },
  {
   "cell_type": "code",
   "execution_count": null,
   "metadata": {},
   "outputs": [],
   "source": [
    "trial_type = \"instruction_practice_catch\"\n",
    "layer_number = \"a\"\n",
    "kernel_size = \"a\"\n",
    "channel_number = \"a\"\n",
    "batch = 0"
   ]
  },
  {
   "cell_type": "code",
   "execution_count": null,
   "metadata": {},
   "outputs": [],
   "source": [
    "conditions_list = [\"stimuli_mixed_condition\", \"stimuli_pure_conditions\"]"
   ]
  },
  {
   "cell_type": "code",
   "execution_count": null,
   "metadata": {},
   "outputs": [],
   "source": [
    "start_positions_max = {}\n",
    "# key: occlusion_size, value: tuple of x_start and y_start\n",
    "start_positions_max[66] = (150, 110)\n",
    "start_positions_max[90] = (134, 75)\n",
    "start_positions_max[112] = (112, 52)"
   ]
  },
  {
   "cell_type": "code",
   "execution_count": null,
   "metadata": {},
   "outputs": [],
   "source": [
    "start_positions_min = {}\n",
    "# key: occlusion_size, value: tuple of x_start and y_start\n",
    "start_positions_min[66] = (0, 135)\n",
    "start_positions_min[90] = (0, 134)\n",
    "start_positions_min[112] = (0, 112)"
   ]
  },
  {
   "cell_type": "code",
   "execution_count": null,
   "metadata": {},
   "outputs": [],
   "source": [
    "for conditions_list_i in conditions_list:\n",
    "    \n",
    "    data_dir = os.path.join(\n",
    "        query_path,\n",
    "        conditions_list_i,\n",
    "        \"channel\",\n",
    "        trial_type,\n",
    "        f\"layer_{layer_number}\",\n",
    "        f\"kernel_size_{kernel_size}\",\n",
    "        f\"channel_{channel_number}\",\n",
    "        \"natural_images\",\n",
    "        f\"batch_{batch}\"\n",
    "    )\n",
    "\n",
    "    # loop through occlusion sizes\n",
    "    for percentage_side_length_i, occlusion_size_i, heatmap_size_i in zip(\n",
    "        ut.percentage_side_length_list, \n",
    "        ut.occlusion_sizes_list, \n",
    "        ut.heatmap_sizes_list):\n",
    "        print(f\"percentage_side_length_i {percentage_side_length_i}, occlusion_size_i {occlusion_size_i}, heatmap_size_i {heatmap_size_i}\")\n",
    "\n",
    "        query_dir = os.path.join(\n",
    "            data_dir,\n",
    "            f\"{percentage_side_length_i}_percent_side_length_dog_swan\"\n",
    "        )\n",
    "        os.makedirs(query_dir, exist_ok=True)\n",
    "\n",
    "        # loop through query images\n",
    "        for query_type_i in [\"default\", \"max_activation\", \"min_activation\"]:\n",
    "            print(\"query_type_i\", query_type_i)\n",
    "\n",
    "            # get images\n",
    "            image_to_be_saved = copy.deepcopy(image_np_transformed.squeeze())\n",
    "\n",
    "            # add patch to occlusion images\n",
    "            # hand crafted by Judy\n",
    "            if \"activation\" in query_type_i:\n",
    "                if \"min\" in query_type_i:\n",
    "                    x_start, y_start = start_positions_min[occlusion_size_i]\n",
    "                    x_end, y_end = x_start + occlusion_size_i, y_start + occlusion_size_i\n",
    "                elif \"max\" in query_type_i:\n",
    "                    x_start, y_start = start_positions_max[occlusion_size_i]\n",
    "                    x_end, y_end = x_start + occlusion_size_i, y_start + occlusion_size_i\n",
    "\n",
    "                # add occlusion\n",
    "                image_to_be_saved[x_start:x_end, y_start:y_end, :] = np.mean(np.mean(image_to_be_saved[x_start:x_end, y_start:y_end, :], axis=0), axis=0)\n",
    "\n",
    "            image_path = os.path.join(query_dir, f\"query_{query_type_i}.png\")\n",
    "            cv2.imwrite(image_path, cv2.cvtColor(image_to_be_saved*255, cv2.COLOR_RGB2BGR))\n",
    "\n",
    "            plt.imshow(image_to_be_saved)\n",
    "            plt.show()"
   ]
  }
 ],
 "metadata": {
  "kernelspec": {
   "display_name": "Python 3",
   "language": "python",
   "name": "python3"
  },
  "language_info": {
   "codemirror_mode": {
    "name": "ipython",
    "version": 3
   },
   "file_extension": ".py",
   "mimetype": "text/x-python",
   "name": "python",
   "nbconvert_exporter": "python",
   "pygments_lexer": "ipython3",
   "version": "3.6.3"
  },
  "varInspector": {
   "cols": {
    "lenName": 16,
    "lenType": 16,
    "lenVar": 40
   },
   "kernels_config": {
    "python": {
     "delete_cmd_postfix": "",
     "delete_cmd_prefix": "del ",
     "library": "var_list.py",
     "varRefreshCmd": "print(var_dic_list())"
    },
    "r": {
     "delete_cmd_postfix": ") ",
     "delete_cmd_prefix": "rm(",
     "library": "var_list.r",
     "varRefreshCmd": "cat(var_dic_list()) "
    }
   },
   "types_to_exclude": [
    "module",
    "function",
    "builtin_function_or_method",
    "instance",
    "_Feature"
   ],
   "window_display": false
  }
 },
 "nbformat": 4,
 "nbformat_minor": 2
}
