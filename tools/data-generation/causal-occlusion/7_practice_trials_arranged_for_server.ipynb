{
 "cells": [
  {
   "cell_type": "markdown",
   "metadata": {},
   "source": [
    "This notebook creates a folder in `base_target_path` (TODO: update this one when running this nb anew!) with the stimuli for the practice trials in the structure required for the server.\n",
    "\n",
    "`trial_[1-3]` are very easy; `trial_[4-10]` are easy. This was judged by Roland and Judy."
   ]
  },
  {
   "cell_type": "markdown",
   "metadata": {},
   "source": [
    "# Imports"
   ]
  },
  {
   "cell_type": "code",
   "execution_count": null,
   "metadata": {},
   "outputs": [],
   "source": [
    "import os\n",
    "import glob\n",
    "import shutil\n",
    "import random"
   ]
  },
  {
   "cell_type": "markdown",
   "metadata": {},
   "source": [
    "# Parameters"
   ]
  },
  {
   "cell_type": "code",
   "execution_count": null,
   "metadata": {},
   "outputs": [],
   "source": [
    "# TODO: update these two folders\n",
    "base_source_path = \"$DATAPATH/stimuli_generated_on_20210512\"\n",
    "base_target_path = \"$DATAPATH/stimuli_practice_generated_on_20210513\" \n",
    "os.makedirs(base_target_path, exist_ok=True)\n",
    "\n",
    "source_path_pure = os.path.join(\n",
    "    base_source_path,\n",
    "    \"stimuli_pure_conditions/channel/instruction_practice_catch\"\n",
    ")\n",
    "source_path_mixed = os.path.join(\n",
    "    base_source_path,\n",
    "    \"stimuli_mixed_conditions/channel/instruction_practice_catch\"\n",
    ")"
   ]
  },
  {
   "cell_type": "code",
   "execution_count": null,
   "metadata": {},
   "outputs": [],
   "source": [
    "# This dictionary was generated based on this Google Doc:\n",
    "# https://docs.google.com/document/d/1eYjyAzJDm-v8Z0D3wS70lEP_dczze9CoPYMwodJVpjo/edit?usp=sharing\n",
    "\n",
    "practice_info_dict = {}\n",
    "practice_info_dict[1]= {\n",
    "    \"layer_number\": \"g\",\n",
    "    \"batch_number\": 18\n",
    "}\n",
    "practice_info_dict[2]= {\n",
    "    \"layer_number\": \"o\",\n",
    "    \"batch_number\": 1\n",
    "}\n",
    "practice_info_dict[3]= {\n",
    "    \"layer_number\": \"d\",\n",
    "    \"batch_number\": 0\n",
    "}\n",
    "practice_info_dict[4]= {\n",
    "    \"layer_number\": \"c\",\n",
    "    \"batch_number\": 5\n",
    "}\n",
    "practice_info_dict[5]= {\n",
    "    \"layer_number\": \"e\",\n",
    "    \"batch_number\": 2\n",
    "}\n",
    "practice_info_dict[6]= {\n",
    "    \"layer_number\": \"f\",\n",
    "    \"batch_number\": 12\n",
    "}\n",
    "practice_info_dict[7]= {\n",
    "    \"layer_number\": \"h\",\n",
    "    \"batch_number\": 0\n",
    "}\n",
    "practice_info_dict[8]= {\n",
    "    \"layer_number\": \"k\",\n",
    "    \"batch_number\": 9\n",
    "}\n",
    "practice_info_dict[9]= {\n",
    "    \"layer_number\": \"n\",\n",
    "    \"batch_number\": 3\n",
    "}\n",
    "practice_info_dict[10]= {\n",
    "    \"layer_number\": \"q\",\n",
    "    \"batch_number\": 5\n",
    "}"
   ]
  },
  {
   "cell_type": "code",
   "execution_count": null,
   "metadata": {},
   "outputs": [],
   "source": [
    "def get_source_path_base(mixed_or_pure):\n",
    "    if mixed_or_pure == \"mixed\":\n",
    "        source_path_base = source_path_mixed\n",
    "    elif mixed_or_pure == \"pure\":\n",
    "        source_path_base = source_path_pure\n",
    "\n",
    "    return source_path_base"
   ]
  },
  {
   "cell_type": "markdown",
   "metadata": {},
   "source": [
    "# Query Images"
   ]
  },
  {
   "cell_type": "code",
   "execution_count": null,
   "metadata": {},
   "outputs": [],
   "source": [
    "def copy_query_imgs(mixed_or_pure, target_folder):\n",
    "\n",
    "    for trial_i, feature_map_specification in practice_info_dict.items():\n",
    "\n",
    "        source_path_base = get_source_path_base(mixed_or_pure)\n",
    "        source_queries_path = os.path.join(\n",
    "            source_path_base, \n",
    "            f\"layer_{feature_map_specification['layer_number']}\",\n",
    "            f\"kernel_size_{feature_map_specification['layer_number']}\",\n",
    "            f\"channel_{feature_map_specification['layer_number']}\",\n",
    "            \"natural_images\",\n",
    "            f\"batch_{feature_map_specification['batch_number']}\",\n",
    "            \"40_percent_side_length\")\n",
    "\n",
    "        target_queries_path = os.path.join(\n",
    "            target_folder,\n",
    "            f\"trial_{trial_i}\",\n",
    "            \"queries\"\n",
    "        )\n",
    "        os.makedirs(target_queries_path, exist_ok=True)\n",
    "\n",
    "        shutil.copy(os.path.join(source_queries_path, \"query_min_activation.png\"), os.path.join(target_queries_path, \"min.png\"))\n",
    "        shutil.copy(os.path.join(source_queries_path, \"query_max_activation.png\"), os.path.join(target_queries_path, \"max.png\"))\n",
    "        shutil.copy(os.path.join(source_queries_path, \"query_default.png\"), os.path.join(target_queries_path, \"base.png\"))"
   ]
  },
  {
   "cell_type": "code",
   "execution_count": null,
   "metadata": {},
   "outputs": [],
   "source": [
    "for mixed_or_pure, target_folder_base in zip(\n",
    "    [\"pure\", \"pure\", \"pure\", \"mixed\"], \n",
    "    [\"demo_natural_9_references\",\n",
    "     \"demo_natural_blur_9_references\",\n",
    "     \"demo_optimized_9_references\", \n",
    "     \"demo_natural_5_optimized_4_references\"\n",
    "    ]):\n",
    "        target_folder = os.path.join(\n",
    "            base_target_path, \n",
    "            target_folder_base, \n",
    "            \"trials\"\n",
    "        )\n",
    "        os.makedirs(target_folder, exist_ok=True)\n",
    "        \n",
    "        copy_query_imgs(mixed_or_pure, target_folder)"
   ]
  },
  {
   "cell_type": "markdown",
   "metadata": {},
   "source": [
    "# Reference Images"
   ]
  },
  {
   "cell_type": "code",
   "execution_count": null,
   "metadata": {},
   "outputs": [],
   "source": [
    "def copy_reference_imgs(mixed_or_pure, target_folder):\n",
    "    for trial_i, feature_map_specification in practice_info_dict.items():\n",
    "\n",
    "        source_path_base = get_source_path_base(mixed_or_pure)\n",
    "        source_queries_path_base = os.path.join(\n",
    "            source_path_base, \n",
    "            f\"layer_{feature_map_specification['layer_number']}\",\n",
    "            f\"kernel_size_{feature_map_specification['layer_number']}\",\n",
    "            f\"channel_{feature_map_specification['layer_number']}\"\n",
    "        )\n",
    "        \n",
    "        target_references_path = os.path.join(\n",
    "            target_folder,\n",
    "            f\"trial_{trial_i}\",\n",
    "            \"references\"\n",
    "        )\n",
    "        os.makedirs(target_references_path, exist_ok=True)\n",
    "\n",
    "        if mixed_or_pure == \"pure\":\n",
    "            if \"natural_blur\" in target_folder:\n",
    "                source_queries_path_condition = os.path.join(\n",
    "                    \"natural_blur_images\",\n",
    "                    f\"batch_{feature_map_specification['batch_number']}\",\n",
    "                    \"40_percent_side_length\"\n",
    "                )\n",
    "            elif \"natural\" in target_folder:\n",
    "                source_queries_path_condition = os.path.join(\n",
    "                    \"natural_images\",\n",
    "                    f\"batch_{feature_map_specification['batch_number']}\"\n",
    "                )\n",
    "            elif \"optimized\" in target_folder:\n",
    "                source_queries_path_condition = \"optimized_images\"\n",
    "            imgs_paths_list = glob.glob(\n",
    "                os.path.join(\n",
    "                    source_queries_path_base,\n",
    "                    source_queries_path_condition,\n",
    "                    \"*.png\"\n",
    "                )\n",
    "            )\n",
    "\n",
    "            # first copy over the base image as the very last image in the folder\n",
    "            last_reference = imgs_paths_list[-1] # depending on file system, not necessarily the max_5 img!\n",
    "            base_img_dirname = os.path.dirname(last_reference)\n",
    "            last_img_basename = os.path.basename(last_reference)\n",
    "            base_img_basename = f\"{last_img_basename.split('.png')[0][:-1]}{len(imgs_paths_list)-1}.png\"\n",
    "            source_reference = os.path.join(base_img_dirname, base_img_basename)\n",
    "            target_reference = os.path.join(target_references_path, f\"reference_max_{len(imgs_paths_list) -1}.png\")\n",
    "            shutil.copy(source_reference, target_reference)\n",
    "            # remove path to base img from list\n",
    "            imgs_paths_list.remove(source_reference)\n",
    "\n",
    "            # copy remaining images over\n",
    "            # shuffle the image numbering                      \n",
    "            random.shuffle(imgs_paths_list)\n",
    "            for reference_idx, source_reference in enumerate(imgs_paths_list):\n",
    "                target_reference = os.path.join(target_references_path, f\"reference_max_{reference_idx}.png\")\n",
    "                shutil.copy(source_reference, target_reference)\n",
    "\n",
    "        elif mixed_or_pure == \"mixed\":\n",
    "            optimized_imgs_paths_list = imgs_paths_list = glob.glob(\n",
    "                os.path.join(\n",
    "                    source_queries_path_base,\n",
    "                    \"optimized_images\",\n",
    "                    \"*.png\"\n",
    "                )\n",
    "            )\n",
    "            natural_imgs_paths_list = glob.glob(\n",
    "                os.path.join(\n",
    "                    source_queries_path_base,\n",
    "                    \"natural_images\",\n",
    "                    f\"batch_{feature_map_specification['batch_number']}\",\n",
    "                    \"*.png\"\n",
    "                )\n",
    "            )            \n",
    "\n",
    "            # first copy over the natural base image as the very last image in the mixed folder\n",
    "            last_reference = natural_imgs_paths_list[-1] # depending on file system, not necessarily the max_5 img!\n",
    "            base_img_dirname = os.path.dirname(last_reference)\n",
    "            last_img_basename = os.path.basename(last_reference)\n",
    "            base_img_basename = f\"{last_img_basename.split('.png')[0][:-1]}{len(natural_imgs_paths_list)-1}.png\"\n",
    "            source_reference = os.path.join(base_img_dirname, base_img_basename)\n",
    "            target_reference = os.path.join(target_references_path, f\"reference_max_{len(natural_imgs_paths_list) + len(optimized_imgs_paths_list) -1}.png\")\n",
    "            shutil.copy(source_reference, target_reference)\n",
    "            # remove path to base img from list\n",
    "            natural_imgs_paths_list.remove(source_reference)\n",
    "\n",
    "            # shuffle the image numbering\n",
    "            random.shuffle(optimized_imgs_paths_list)\n",
    "            random.shuffle(natural_imgs_paths_list)\n",
    "            # first copy optimized (indices 0-3) and then optimized images (indices 4-8)\n",
    "            for reference_idx, source_reference in enumerate(optimized_imgs_paths_list):\n",
    "                # continue counting of reference images\n",
    "                target_reference = os.path.join(target_references_path,\n",
    "                                                f\"reference_max_{reference_idx}.png\")\n",
    "                shutil.copy(source_reference, target_reference)   \n",
    "            for reference_idx, source_reference in enumerate(natural_imgs_paths_list):\n",
    "                target_reference = os.path.join(target_references_path, \n",
    "                                                f\"reference_max_{reference_idx + len(optimized_imgs_paths_list)}.png\")\n",
    "                shutil.copy(source_reference, target_reference)"
   ]
  },
  {
   "cell_type": "code",
   "execution_count": null,
   "metadata": {
    "scrolled": true
   },
   "outputs": [],
   "source": [
    "for mixed_or_pure, target_folder_base in zip(\n",
    "    [\"pure\", \"pure\", \"pure\", \"mixed\"], \n",
    "    [\"demo_natural_9_references\", \n",
    "     \"demo_natural_blur_9_references\",\n",
    "     \"demo_optimized_9_references\", \n",
    "     \"demo_natural_5_optimized_4_references\"\n",
    "    ]):\n",
    "        target_folder = os.path.join(\n",
    "            base_target_path, \n",
    "            target_folder_base, \n",
    "            \"trials\")\n",
    "        os.makedirs(target_folder, exist_ok=True)\n",
    "        print(target_folder_base)\n",
    "        \n",
    "        copy_reference_imgs(mixed_or_pure, target_folder)"
   ]
  },
  {
   "cell_type": "code",
   "execution_count": null,
   "metadata": {},
   "outputs": [],
   "source": []
  }
 ],
 "metadata": {
  "kernelspec": {
   "display_name": "Python 3",
   "language": "python",
   "name": "python3"
  },
  "language_info": {
   "codemirror_mode": {
    "name": "ipython",
    "version": 3
   },
   "file_extension": ".py",
   "mimetype": "text/x-python",
   "name": "python",
   "nbconvert_exporter": "python",
   "pygments_lexer": "ipython3",
   "version": "3.6.3"
  },
  "varInspector": {
   "cols": {
    "lenName": 16,
    "lenType": 16,
    "lenVar": 40
   },
   "kernels_config": {
    "python": {
     "delete_cmd_postfix": "",
     "delete_cmd_prefix": "del ",
     "library": "var_list.py",
     "varRefreshCmd": "print(var_dic_list())"
    },
    "r": {
     "delete_cmd_postfix": ") ",
     "delete_cmd_prefix": "rm(",
     "library": "var_list.r",
     "varRefreshCmd": "cat(var_dic_list()) "
    }
   },
   "types_to_exclude": [
    "module",
    "function",
    "builtin_function_or_method",
    "instance",
    "_Feature"
   ],
   "window_display": false
  }
 },
 "nbformat": 4,
 "nbformat_minor": 2
}
